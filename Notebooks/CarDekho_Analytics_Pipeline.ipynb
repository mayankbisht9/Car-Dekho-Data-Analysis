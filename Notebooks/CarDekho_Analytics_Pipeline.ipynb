{
 "cells": [
  {
   "cell_type": "code",
   "execution_count": 1,
   "metadata": {},
   "outputs": [],
   "source": [
    "import pandas as pd\n",
    "import numpy as np\n",
    "import warnings\n",
    "from datetime import datetime\n",
    "warnings.filterwarnings('ignore')\n",
    "pd.set_option('display.max_columns', None)"
   ]
  },
  {
   "cell_type": "code",
   "execution_count": 2,
   "metadata": {},
   "outputs": [
    {
     "name": "stdout",
     "output_type": "stream",
     "text": [
      "Dataset shape: (15411, 13)\n"
     ]
    }
   ],
   "source": [
    "def load_data(file_path):\n",
    "    for sep in [',', '|', ';', '\\t']:\n",
    "        try:\n",
    "            df = pd.read_csv(f\"C:/Users/mayan/OneDrive/Desktop/Car Dekho Project/Data/cardekho_dataset.csv\", sep=sep)\n",
    "            if df.shape[1] > 1:\n",
    "                return df\n",
    "        except:\n",
    "            continue\n",
    "    return pd.read_csv(file_path)\n",
    "\n",
    "df = load_data(\"cardekho_dataset.csv\")\n",
    "df.columns = df.columns.str.replace(r'^\\d+\\|', '', regex=True)\n",
    "df.columns = df.columns.str.strip()\n",
    "\n",
    "if df.columns[0].startswith('Unnamed') or df.iloc[0, 0] == '0':\n",
    "    df = df.drop(df.columns[0], axis=1)\n",
    "\n",
    "print(f\"Dataset shape: {df.shape}\")"
   ]
  },
  {
   "cell_type": "code",
   "execution_count": 3,
   "metadata": {},
   "outputs": [
    {
     "name": "stdout",
     "output_type": "stream",
     "text": [
      "Cleaned shape: (15244, 13)\n"
     ]
    }
   ],
   "source": [
    "def clean_data(df):\n",
    "    df_cleaned = df.copy()\n",
    "    \n",
    "    for col in df_cleaned.columns:\n",
    "        if df_cleaned[col].isnull().sum() > 0:\n",
    "            if df_cleaned[col].dtype in ['object', 'category']:\n",
    "                mode_value = df_cleaned[col].mode().iloc[0] if not df_cleaned[col].mode().empty else 'Unknown'\n",
    "                df_cleaned[col].fillna(mode_value, inplace=True)\n",
    "            else:\n",
    "                df_cleaned[col].fillna(df_cleaned[col].median(), inplace=True)\n",
    "    \n",
    "    df_cleaned = df_cleaned.drop_duplicates()\n",
    "    \n",
    "    for col in df_cleaned.columns:\n",
    "        if df_cleaned[col].dtype == 'object':\n",
    "            numeric_conversion = pd.to_numeric(df_cleaned[col], errors='coerce')\n",
    "            if (numeric_conversion.notna().sum() / len(df_cleaned)) > 0.9:\n",
    "                df_cleaned[col] = numeric_conversion\n",
    "    \n",
    "    return df_cleaned\n",
    "\n",
    "df_cleaned = clean_data(df)\n",
    "print(f\"Cleaned shape: {df_cleaned.shape}\")"
   ]
  },
  {
   "cell_type": "code",
   "execution_count": 4,
   "metadata": {},
   "outputs": [
    {
     "name": "stdout",
     "output_type": "stream",
     "text": [
      "Transformed shape: (15244, 26)\n"
     ]
    }
   ],
   "source": [
    "def transform_data(df):\n",
    "    df_transformed = df.copy()\n",
    "    \n",
    "    if 'vehicle_age' in df_transformed.columns:\n",
    "        df_transformed['age_category'] = pd.cut(df_transformed['vehicle_age'], \n",
    "                                              bins=[0, 3, 7, 12, float('inf')], \n",
    "                                              labels=['New', 'Medium', 'Old', 'Very_Old'])\n",
    "    \n",
    "    if 'km_driven' in df_transformed.columns:\n",
    "        df_transformed['km_category'] = pd.cut(df_transformed['km_driven'], \n",
    "                                             bins=[0, 20000, 50000, 100000, float('inf')], \n",
    "                                             labels=['Low', 'Medium', 'High', 'Very_High'])\n",
    "    \n",
    "    if 'selling_price' in df_transformed.columns:\n",
    "        df_transformed['price_category'] = pd.cut(df_transformed['selling_price'], \n",
    "                                                bins=[0, 300000, 700000, 1500000, float('inf')], \n",
    "                                                labels=['Budget', 'Mid_Range', 'Premium', 'Luxury'])\n",
    "    \n",
    "    categorical_cols = df_transformed.select_dtypes(include=['object']).columns.tolist()\n",
    "    for col in categorical_cols:\n",
    "        unique_count = df_transformed[col].nunique()\n",
    "        if unique_count > 10:\n",
    "            le = LabelEncoder()\n",
    "            df_transformed[f'{col}_encoded'] = le.fit_transform(df_transformed[col].astype(str))\n",
    "        else:\n",
    "            dummies = pd.get_dummies(df_transformed[col], prefix=col, drop_first=True)\n",
    "            df_transformed = pd.concat([df_transformed, dummies], axis=1)\n",
    "    \n",
    "    return df_transformed\n",
    "\n",
    "df_transformed = transform_data(df_cleaned)\n",
    "print(f\"Transformed shape: {df_transformed.shape}\")"
   ]
  },
  {
   "cell_type": "code",
   "execution_count": 5,
   "metadata": {},
   "outputs": [
    {
     "name": "stdout",
     "output_type": "stream",
     "text": [
      "        vehicle_age     km_driven       mileage        engine     max_power  \\\n",
      "count  15244.000000  1.524400e+04  15244.000000  15244.000000  15244.000000   \n",
      "mean       6.041131  5.563958e+04     19.697333   1486.171543    100.607652   \n",
      "std        3.016228  5.176630e+04      4.169307    520.419390     42.915687   \n",
      "min        0.000000  1.000000e+02      4.000000    793.000000     38.400000   \n",
      "25%        4.000000  3.000000e+04     17.000000   1197.000000     74.000000   \n",
      "50%        6.000000  5.000000e+04     19.670000   1248.000000     88.500000   \n",
      "75%        8.000000  7.000000e+04     22.700000   1582.000000    117.300000   \n",
      "max       29.000000  3.800000e+06     33.540000   6592.000000    626.000000   \n",
      "\n",
      "              seats  selling_price  car_name_encoded  brand_encoded  \\\n",
      "count  15244.000000   1.524400e+04      15244.000000   15244.000000   \n",
      "mean       5.326161   7.747014e+05         60.770008      15.230714   \n",
      "std        0.808760   8.946761e+05         30.634237       8.058158   \n",
      "min        0.000000   4.000000e+04          0.000000       0.000000   \n",
      "25%        5.000000   3.850000e+05         34.000000       8.000000   \n",
      "50%        5.000000   5.590000e+05         65.000000      18.000000   \n",
      "75%        5.000000   8.250000e+05         78.000000      18.000000   \n",
      "max        9.000000   3.950000e+07        120.000000      31.000000   \n",
      "\n",
      "       model_encoded  \n",
      "count   15244.000000  \n",
      "mean       62.203687  \n",
      "std        36.329430  \n",
      "min         0.000000  \n",
      "25%        26.000000  \n",
      "50%        62.000000  \n",
      "75%        92.000000  \n",
      "max       119.000000  \n",
      "\n",
      "car_name:\n",
      "car_name\n",
      "Hyundai i20           898\n",
      "Maruti Swift Dzire    875\n",
      "Maruti Swift          774\n",
      "Maruti Alto           768\n",
      "Honda City            750\n",
      "Name: count, dtype: int64\n",
      "\n",
      "brand:\n",
      "brand\n",
      "Maruti      4933\n",
      "Hyundai     2952\n",
      "Honda       1476\n",
      "Mahindra     999\n",
      "Toyota       789\n",
      "Name: count, dtype: int64\n",
      "\n",
      "model:\n",
      "model\n",
      "i20            898\n",
      "Swift Dzire    875\n",
      "Swift          774\n",
      "Alto           768\n",
      "City           750\n",
      "Name: count, dtype: int64\n"
     ]
    }
   ],
   "source": [
    "numerical_cols = df_transformed.select_dtypes(include=[np.number]).columns\n",
    "if len(numerical_cols) > 0:\n",
    "    print(df_transformed[numerical_cols].describe())\n",
    "\n",
    "categorical_cols = df_transformed.select_dtypes(include=['object', 'category']).columns\n",
    "for col in categorical_cols[:3]:\n",
    "    print(f\"\\n{col}:\")\n",
    "    print(df_transformed[col].value_counts().head())"
   ]
  },
  {
   "cell_type": "code",
   "execution_count": 8,
   "metadata": {},
   "outputs": [
    {
     "name": "stdout",
     "output_type": "stream",
     "text": [
      "Data exported to: C:/Users/mayan/OneDrive/Desktop/Car Dekho Project/Data/cardekho_processed_20250826_130107.csv\n",
      "Final dataset shape: (15244, 26)\n"
     ]
    }
   ],
   "source": [
    "timestamp = datetime.now().strftime(\"%Y%m%d_%H%M%S\")\n",
    "output_filename = f\"C:/Users/mayan/OneDrive/Desktop/Car Dekho Project/Data/cardekho_processed.csv\"\n",
    "df_transformed.to_csv(output_filename, index=False)\n",
    "print(f\"Data exported to: {output_filename}\")\n",
    "print(f\"Final dataset shape: {df_transformed.shape}\")"
   ]
  },
  {
   "cell_type": "code",
   "execution_count": null,
   "metadata": {},
   "outputs": [],
   "source": []
  }
 ],
 "metadata": {
  "kernelspec": {
   "display_name": "Python 3 (ipykernel)",
   "language": "python",
   "name": "python3"
  },
  "language_info": {
   "codemirror_mode": {
    "name": "ipython",
    "version": 3
   },
   "file_extension": ".py",
   "mimetype": "text/x-python",
   "name": "python",
   "nbconvert_exporter": "python",
   "pygments_lexer": "ipython3",
   "version": "3.13.5"
  }
 },
 "nbformat": 4,
 "nbformat_minor": 4
}
